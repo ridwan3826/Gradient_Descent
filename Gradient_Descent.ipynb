{
 "cells": [
  {
   "cell_type": "code",
   "execution_count": 1,
   "id": "f4087fe2",
   "metadata": {},
   "outputs": [],
   "source": [
    "import pandas as pd\n",
    "import numpy as np\n",
    "import matplotlib.pyplot as plt"
   ]
  },
  {
   "cell_type": "code",
   "execution_count": 2,
   "id": "ddeab6db",
   "metadata": {},
   "outputs": [],
   "source": [
    "df=pd.read_csv('home data.csv')"
   ]
  },
  {
   "cell_type": "code",
   "execution_count": 3,
   "id": "fa1d7239",
   "metadata": {},
   "outputs": [
    {
     "data": {
      "text/html": [
       "<div>\n",
       "<style scoped>\n",
       "    .dataframe tbody tr th:only-of-type {\n",
       "        vertical-align: middle;\n",
       "    }\n",
       "\n",
       "    .dataframe tbody tr th {\n",
       "        vertical-align: top;\n",
       "    }\n",
       "\n",
       "    .dataframe thead th {\n",
       "        text-align: right;\n",
       "    }\n",
       "</style>\n",
       "<table border=\"1\" class=\"dataframe\">\n",
       "  <thead>\n",
       "    <tr style=\"text-align: right;\">\n",
       "      <th></th>\n",
       "      <th>x</th>\n",
       "      <th>y</th>\n",
       "    </tr>\n",
       "  </thead>\n",
       "  <tbody>\n",
       "    <tr>\n",
       "      <th>0</th>\n",
       "      <td>48.955889</td>\n",
       "      <td>60.723602</td>\n",
       "    </tr>\n",
       "    <tr>\n",
       "      <th>1</th>\n",
       "      <td>44.687196</td>\n",
       "      <td>82.892504</td>\n",
       "    </tr>\n",
       "    <tr>\n",
       "      <th>2</th>\n",
       "      <td>60.297327</td>\n",
       "      <td>97.379897</td>\n",
       "    </tr>\n",
       "    <tr>\n",
       "      <th>3</th>\n",
       "      <td>45.618644</td>\n",
       "      <td>48.847153</td>\n",
       "    </tr>\n",
       "    <tr>\n",
       "      <th>4</th>\n",
       "      <td>38.816818</td>\n",
       "      <td>56.877213</td>\n",
       "    </tr>\n",
       "  </tbody>\n",
       "</table>\n",
       "</div>"
      ],
      "text/plain": [
       "           x          y\n",
       "0  48.955889  60.723602\n",
       "1  44.687196  82.892504\n",
       "2  60.297327  97.379897\n",
       "3  45.618644  48.847153\n",
       "4  38.816818  56.877213"
      ]
     },
     "execution_count": 3,
     "metadata": {},
     "output_type": "execute_result"
    }
   ],
   "source": [
    "df.head()"
   ]
  },
  {
   "cell_type": "code",
   "execution_count": 4,
   "id": "9b78cb69",
   "metadata": {},
   "outputs": [
    {
     "data": {
      "text/plain": [
       "(99, 2)"
      ]
     },
     "execution_count": 4,
     "metadata": {},
     "output_type": "execute_result"
    }
   ],
   "source": [
    "df.shape"
   ]
  },
  {
   "cell_type": "code",
   "execution_count": 5,
   "id": "a0b81e4e",
   "metadata": {},
   "outputs": [],
   "source": [
    "x = df ['x']\n",
    "y = df ['y']"
   ]
  },
  {
   "cell_type": "code",
   "execution_count": 6,
   "id": "47e46706",
   "metadata": {},
   "outputs": [
    {
     "data": {
      "text/plain": [
       "0     48.955889\n",
       "1     44.687196\n",
       "2     60.297327\n",
       "3     45.618644\n",
       "4     38.816818\n",
       "        ...    \n",
       "94    50.030174\n",
       "95    49.239765\n",
       "96    50.039576\n",
       "97    48.149859\n",
       "98    25.128485\n",
       "Name: x, Length: 99, dtype: float64"
      ]
     },
     "execution_count": 6,
     "metadata": {},
     "output_type": "execute_result"
    }
   ],
   "source": [
    "x"
   ]
  },
  {
   "cell_type": "code",
   "execution_count": 7,
   "id": "9582a5e4",
   "metadata": {},
   "outputs": [
    {
     "data": {
      "text/plain": [
       "0     60.723602\n",
       "1     82.892504\n",
       "2     97.379897\n",
       "3     48.847153\n",
       "4     56.877213\n",
       "        ...    \n",
       "94    81.536991\n",
       "95    72.111832\n",
       "96    85.232007\n",
       "97    66.224958\n",
       "98    53.454394\n",
       "Name: y, Length: 99, dtype: float64"
      ]
     },
     "execution_count": 7,
     "metadata": {},
     "output_type": "execute_result"
    }
   ],
   "source": [
    "y"
   ]
  },
  {
   "cell_type": "markdown",
   "id": "da8fcb6f",
   "metadata": {},
   "source": [
    "# Gradient Descent in Machine Learning"
   ]
  },
  {
   "cell_type": "code",
   "execution_count": 10,
   "id": "f0a9d7e7",
   "metadata": {},
   "outputs": [
    {
     "name": "stdout",
     "output_type": "stream",
     "text": [
      "This is m: 1.4796491688881985\n",
      "This is c: 0.10148121497503648\n"
     ]
    }
   ],
   "source": [
    "#first_Step\n",
    "m = 0\n",
    "c = 0\n",
    "Learning_rate = 0.0001\n",
    "\n",
    "n = int(len(x))\n",
    "\n",
    "iterations = 1000\n",
    "\n",
    "#second_step\n",
    "for i in range(iterations):\n",
    "    y_prediction = m * x + c\n",
    "    dervatives_m = (-2/n) * sum(x*(y-y_prediction))\n",
    "    dervatives_c = (-2/n) * sum(y-y_prediction)\n",
    "\n",
    "  #Final_step\n",
    "    m = m - Learning_rate *  dervatives_m\n",
    "    c = c - Learning_rate *  dervatives_c\n",
    "\n",
    "    \n",
    "#print(m,c)\n",
    "\n",
    "print('This is m:',m)\n",
    "print('This is c:',c)"
   ]
  },
  {
   "cell_type": "markdown",
   "id": "86e93656",
   "metadata": {},
   "source": [
    "# Make Predictions "
   ]
  },
  {
   "cell_type": "code",
   "execution_count": 14,
   "id": "200efaad",
   "metadata": {},
   "outputs": [
    {
     "name": "stdout",
     "output_type": "stream",
     "text": [
      "Enter any value of x:60.297327\n"
     ]
    },
    {
     "data": {
      "text/plain": [
       "89.32037099670498"
      ]
     },
     "execution_count": 14,
     "metadata": {},
     "output_type": "execute_result"
    }
   ],
   "source": [
    "x = float(input('Enter any value of x:'))\n",
    "y = 1.4796491688881985 * x + 0.10148121497503648\n",
    "y"
   ]
  },
  {
   "cell_type": "code",
   "execution_count": null,
   "id": "444c9a62",
   "metadata": {},
   "outputs": [],
   "source": []
  }
 ],
 "metadata": {
  "kernelspec": {
   "display_name": "Python 3 (ipykernel)",
   "language": "python",
   "name": "python3"
  },
  "language_info": {
   "codemirror_mode": {
    "name": "ipython",
    "version": 3
   },
   "file_extension": ".py",
   "mimetype": "text/x-python",
   "name": "python",
   "nbconvert_exporter": "python",
   "pygments_lexer": "ipython3",
   "version": "3.11.3"
  }
 },
 "nbformat": 4,
 "nbformat_minor": 5
}
